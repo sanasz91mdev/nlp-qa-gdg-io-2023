{
 "cells": [
  {
   "attachments": {},
   "cell_type": "markdown",
   "metadata": {},
   "source": [
    "## Load documents"
   ]
  },
  {
   "cell_type": "code",
   "execution_count": 1,
   "metadata": {},
   "outputs": [
    {
     "name": "stderr",
     "output_type": "stream",
     "text": [
      "100%|██████████| 1/1 [00:00<00:00,  1.30it/s]"
     ]
    },
    {
     "name": "stdout",
     "output_type": "stream",
     "text": [
      "13\n",
      "page_content=' \\n \\nTHIS TOOL AND HUNDREDS MORE AVAILABLE IN THE HR TOOLBOX AT http://hrinsider.ca/.  \\nTemplates and tools from HR Insider are provided for members of our service. Members may use this document as is or as a \\nstarting point to customize their own documents. HR Insider assumes no responsibility for the effectiveness or legality of an y of \\nits online templates or tools. Always consult your legal c ounsel and management before implementing any new policies or \\nprocedures.  CAR ALLOWANCE  POLICY  \\nPolicy Title  Car Allowance Policy  \\nPolicy Owner  Human Resources  \\nPolicy \\nApprover(s)  Vice President of Human Resources  \\nRelated Policies  Name other related enterprise policies both within or external to \\nthis policy.  \\nRelated \\nProcedures  Name other related enterprise procedures both within or external \\nto this policy.  \\nStorage \\nLocation  Describe physical or digital location of copies of this policy.  \\nEffective Da te List the date that this policy went into effect.  \\nNext Review \\nDate  List the date that this policy must undergo review and update.  \\n \\nINTRODUCTION  \\nThe [organization]  may, at its discretion, provide a [organization]  car or a Monthly \\nCar Allowance to employees whose principal duties require extensive business travel.  \\nThe principal indicator will be the requirements of the job role but a review of needs \\nwill be carried out whe n an employee drives more than [X] busines s miles in a year.  ' metadata={'source': 'docs\\\\car-allowance-policy-hr-insider.pdf', 'page': 0}\n"
     ]
    },
    {
     "name": "stderr",
     "output_type": "stream",
     "text": [
      "\n"
     ]
    }
   ],
   "source": [
    "from langchain.document_loaders import DirectoryLoader\n",
    "from langchain.document_loaders import PyPDFLoader\n",
    "\n",
    "loader = DirectoryLoader('./docs', glob=\"**/*.pdf\",show_progress=True, loader_cls=PyPDFLoader)\n",
    "\n",
    "docs = loader.load()\n",
    "\n",
    "docs_length = len(docs)\n",
    "print(docs_length)\n",
    "print(docs[0])"
   ]
  },
  {
   "attachments": {},
   "cell_type": "markdown",
   "metadata": {},
   "source": [
    "## Chunking\n",
    "\n",
    "By this we ensure that we're embedding a piece of content with as little noise as possible that is still semantically relevant with the help of overlaps"
   ]
  },
  {
   "cell_type": "code",
   "execution_count": 2,
   "metadata": {},
   "outputs": [
    {
     "name": "stdout",
     "output_type": "stream",
     "text": [
      "Number documents 13\n",
      "Number chunks 34\n",
      "page_content='THIS TOOL AND HUNDREDS MORE AVAILABLE IN THE HR TOOLBOX AT http://hrinsider.ca/.  \\nTemplates and tools from HR Insider are provided for members of our service. Members may use this document as is or as a \\nstarting point to customize their own documents. HR Insider assumes no responsibility for the effectiveness or legality of an y of \\nits online templates or tools. Always consult your legal c ounsel and management before implementing any new policies or \\nprocedures.  CAR ALLOWANCE  POLICY  \\nPolicy Title  Car Allowance Policy  \\nPolicy Owner  Human Resources  \\nPolicy \\nApprover(s)  Vice President of Human Resources  \\nRelated Policies  Name other related enterprise policies both within or external to \\nthis policy.  \\nRelated \\nProcedures  Name other related enterprise procedures both within or external \\nto this policy.  \\nStorage \\nLocation  Describe physical or digital location of copies of this policy.  \\nEffective Da te List the date that this policy went into effect.  \\nNext Review' metadata={'source': 'docs\\\\car-allowance-policy-hr-insider.pdf', 'page': 0}\n"
     ]
    }
   ],
   "source": [
    "from langchain.text_splitter import CharacterTextSplitter\n",
    "\n",
    "text_splitter = CharacterTextSplitter(\n",
    "    separator = \"\\n\",\n",
    "    chunk_size = 1000,\n",
    "    chunk_overlap  = 100)\n",
    "\n",
    "document_chunks = text_splitter.split_documents(docs)\n",
    "\n",
    "print(f\"Number documents {len(docs)}\")\n",
    "print(f\"Number chunks {len(document_chunks)}\")\n",
    "print(document_chunks[0])\n"
   ]
  },
  {
   "attachments": {},
   "cell_type": "markdown",
   "metadata": {},
   "source": [
    "## Creating Embeddings\n",
    "Embeddings transform your text into a vector (a series of numbers that hold the semantic 'meaning' of your text). Vectors are often used when comparing two pieces of text together\n",
    "\n",
    " A vectorstore stores these embeddings , and provides fast ways to look up relevant Documents by embeddings\n",
    "\n",
    " Example\n",
    "\n",
    "|Embedding|Metadata|\n",
    "|---|---|\n",
    "|[-0.00015641732898075134, -0.003165106289088726, ...]\t|{'date' : '1/2/23}|\n",
    "|[-0.00035465431654651654, 1.4654131651654516546, ...]\t|{'date' : '1/3/23}|\n",
    "\n",
    "\n",
    "* Each input must not exceed the max input tokens for the model (Example: 8191 tokens for text-embedding-ada-002)\n",
    "\n",
    "* 1 token ~4 characters"
   ]
  },
  {
   "cell_type": "code",
   "execution_count": 18,
   "metadata": {},
   "outputs": [],
   "source": [
    "from langchain.vectorstores import FAISS\n",
    "from langchain.embeddings import OpenAIEmbeddings\n",
    "from langchain.llms import OpenAI\n",
    "from langchain.embeddings import HuggingFaceEmbeddings\n",
    "import os\n",
    "os.environ[\"OPENAI_API_KEY\"] = \"XXXXXXXXXXXXXXXXXXXXXXXXXXXXXXX\"\n",
    "\n",
    "embeddings = OpenAIEmbeddings()\n",
    "db = FAISS.from_documents(document_chunks,embeddings)\n",
    "db.save_local(\"./faiss_index\")\n"
   ]
  },
  {
   "attachments": {},
   "cell_type": "markdown",
   "metadata": {},
   "source": [
    "## Loading the index"
   ]
  },
  {
   "cell_type": "code",
   "execution_count": 2,
   "metadata": {},
   "outputs": [
    {
     "data": {
      "text/plain": [
       "'Failure by the employee to notify the [organization]  of any motoring offences or \\ndisqualification from driving may result in further action being taken against the \\nemployee.  \\nCHANGE OF JOB ROLE  \\nWhen an essential car use r leaves his/her job role, the requirement for that role to be \\ndesignated for an essential car user will be reviewed.  \\nEmployees who are essential car users who change job and whose new role requires \\nan essential car user will be eligible for a [organizatio n] car or monthly car allowance.  \\nEmployees who are essential car users and who are promoted to a job which still \\nrequires an essential car user and which carries a higher allowance, will continue with'"
      ]
     },
     "execution_count": 2,
     "metadata": {},
     "output_type": "execute_result"
    }
   ],
   "source": [
    "import os\n",
    "from langchain.vectorstores import FAISS\n",
    "from langchain.embeddings import OpenAIEmbeddings\n",
    "\n",
    "os.environ[\"OPENAI_API_KEY\"] = \"XXXXXXXXXXXXXXXXXXXXXXXXXXXXXXXXXXXXXXXXXXX\"\n",
    "\n",
    "embeddings = OpenAIEmbeddings()\n",
    "new_db = FAISS.load_local(\"./faiss_index\", embeddings)\n",
    "\n",
    "query = \"what happens when an essential car user leaves his/her job role?\"\n",
    "docs = new_db.similarity_search(query)\n",
    "\n",
    "docs[0].page_content"
   ]
  },
  {
   "attachments": {},
   "cell_type": "markdown",
   "metadata": {},
   "source": [
    "## Using Conversational Retrieval chain\n",
    "\n",
    "Chains allow us to combine multiple components together to create a single, coherent application. For example, we can create a chain that takes user input, formats it with a PromptTemplate, and then returns response from LLM"
   ]
  },
  {
   "cell_type": "code",
   "execution_count": 11,
   "metadata": {},
   "outputs": [
    {
     "name": "stdout",
     "output_type": "stream",
     "text": [
      "Query: Breiefly summarize the car allowance policy?\n",
      "ANSWER:  The car allowance policy provides two options for essential car users: a fully maintained company car supplied on contract hire or a monthly car allowance paid into salary. The monthly car allowance is equivalent in value to the provision of a company car with an additional payment of [x] towards the cost of the employee's car insurance premium. The allowance is non-superannuable and is not subject to any annual pay award.\n",
      "car-allowance-policy-hr-insider.pdf - Page: 0\n",
      "================================================================================================================================\n",
      "Query: What are offences that are not covered in it and employees are responsible for those offences?\n",
      "ANSWER: \n",
      "Yes, the car allowance policy does not cover offences that employees may commit while driving. Employees are responsible for any fines or penalties incurred by breaking the law and the company will not reimburse any costs incurred. Additionally, the company reserves the right to take disciplinary action against an employee if they are convicted of a driving offence.\n",
      "car-allowance-policy-hr-insider.pdf - Page: 10\n",
      "================================================================================================================================\n",
      "Query: What is the policy of employee who is absent from work?\n",
      "ANSWER:  Yes, employees who are absent from work due to extended leave such as maternity, paternity, or extended illness will be eligible for car allowance payments, but they must meet the eligibility criteria and provide the necessary supporting documentation.\n",
      "car-allowance-policy-hr-insider.pdf - Page: 11\n"
     ]
    }
   ],
   "source": [
    "from langchain.chains import ConversationalRetrievalChain\n",
    "from langchain import OpenAI, PromptTemplate\n",
    "\n",
    "\n",
    "\n",
    "chat_history=[]\n",
    "llm=OpenAI(temperature=0)\n",
    "prompt_template = \"\"\"Answer the question from information in index only. Dont make up if you don't know the answer, just say I don't know. Also consider the history of chat and make the user query more meaning full, give sources where possible and construct a detailed response wherever possible, don't just give a one liner.\n",
    "\n",
    "{chat_history}\n",
    "Question: {question}\n",
    "\"\"\"\n",
    "prompt = PromptTemplate(\n",
    "    input_variables=[\"chat_history\",\"question\"], \n",
    "    template=prompt_template\n",
    "\n",
    ")\n",
    "\n",
    "def llm_answer(query):\n",
    "   result = qa({\"question\": query, \"chat_history\": chat_history})\n",
    "   populateHistory(result[\"answer\"],query)\n",
    "   return result\n",
    "\n",
    "\n",
    "def populateHistory(answer, question):\n",
    "    chat_history.append((question, answer))\n",
    "    if len(chat_history) > 10:\n",
    "        chat_history.pop(0)\n",
    "        chat_history.pop(0)\n",
    "\n",
    "qa = ConversationalRetrievalChain.from_llm(llm, new_db.as_retriever(), condense_question_prompt=prompt, return_source_documents=True)\n",
    "\n",
    "query = \"Breiefly summarize the car allowance policy?\"\n",
    "print(\"Query: \" + query)\n",
    "q_answer = llm_answer(query)\n",
    "print(f\"ANSWER: \"+str(q_answer[\"answer\"]))\n",
    "print(q_answer['source_documents'][0].metadata[\"source\"].replace(\"docs\\\\\",\"\")+\" - Page: \"+str(q_answer['source_documents'][0].metadata[\"page\"]))\n",
    "\n",
    "print(\"================================================================================================================================\")\n",
    "\n",
    "\n",
    "query = \"What are offences that are not covered in it and employees are responsible for those offences?\"\n",
    "print(\"Query: \" + query)\n",
    "q_answer = llm_answer(query)\n",
    "print(f\"ANSWER: \"+str(q_answer[\"answer\"]))\n",
    "print(q_answer['source_documents'][0].metadata[\"source\"].replace(\"docs\\\\\",\"\")+\" - Page: \"+str(q_answer['source_documents'][0].metadata[\"page\"]))\n",
    "\n",
    "print(\"================================================================================================================================\")\n",
    "\n",
    "query = \"What is the policy of employee who is absent from work?\"\n",
    "q_answer = llm_answer(query)\n",
    "print(\"Query: \" + query)\n",
    "print(f\"ANSWER: \"+str(q_answer[\"answer\"]))\n",
    "print(q_answer['source_documents'][0].metadata[\"source\"].replace(\"docs\\\\\",\"\")+\" - Page: \"+str(q_answer['source_documents'][0].metadata[\"page\"]))\n",
    "\n",
    "\n"
   ]
  },
  {
   "cell_type": "code",
   "execution_count": 13,
   "metadata": {},
   "outputs": [
    {
     "name": "stdout",
     "output_type": "stream",
     "text": [
      "Query: Breiefly summarize the car allowance policy?\n",
      "ANSWER:  The car allowance policy provides two options for essential car users: a fully maintained company car supplied on contract hire or a monthly car allowance paid into salary. The monthly car allowance is equivalent in value to the provision of a company car, plus an additional payment of [x] as a contribution towards the cost of the employee's car insurance premium. The allowance is non-superannuable and not subject to any annual pay award. It will be subject to review at intervals and amended accordingly.\n",
      "car-allowance-policy-hr-insider.pdf - Page: 0\n",
      "================================================================================================================================\n",
      "Query: What are offences that are not covered in it and employees are responsible for those offences?\n",
      "ANSWER:  Yes, offences that are not covered in the car allowance policy and for which employees are responsible include driving without a valid license, driving without insurance, driving under the influence of drugs or alcohol, and any other offence that is considered to be a criminal offence.\n",
      "car-allowance-policy-hr-insider.pdf - Page: 4\n",
      "================================================================================================================================\n",
      "Query: What is the policy of employee who is absent from work?\n",
      "ANSWER:  Employees who are absent from work due to illness or injury will be entitled to receive full pay for up to four weeks of absence. After four weeks, the employee will be entitled to receive Statutory Sick Pay (SSP) for up to 28 weeks. If the employee is absent for more than 28 weeks, they may be eligible for Employment and Support Allowance (ESA).\n",
      "car-allowance-policy-hr-insider.pdf - Page: 11\n"
     ]
    }
   ],
   "source": [
    "from langchain.chains import ConversationalRetrievalChain\n",
    "from langchain import OpenAI, PromptTemplate\n",
    "\n",
    "\n",
    "\n",
    "chat_history=[]\n",
    "llm=OpenAI(temperature=0)\n",
    "prompt_template = \"\"\"Answer the question from information in index only. Dont make up if you don't know the answer, just say I don't know. Also consider the history of chat and make the user query more meaning full, give sources where possible and construct a detailed response wherever possible, don't just give a one liner.\n",
    "\n",
    "{chat_history}\n",
    "Question: {question}\n",
    "\"\"\"\n",
    "prompt = PromptTemplate(\n",
    "    input_variables=[\"chat_history\",\"question\"], \n",
    "    template=prompt_template\n",
    "\n",
    ")\n",
    "\n",
    "def llm_answer(query):\n",
    "   result = qa({\"question\": query, \"chat_history\": chat_history})\n",
    "   populateHistory(result[\"answer\"],query)\n",
    "   return result\n",
    "\n",
    "\n",
    "def populateHistory(answer, question):\n",
    "    chat_history.append((question, answer))\n",
    "    if len(chat_history) > 10:\n",
    "        chat_history.pop(0)\n",
    "        chat_history.pop(0)\n",
    "\n",
    "qa = ConversationalRetrievalChain.from_llm(llm, new_db.as_retriever(), condense_question_prompt=prompt, return_source_documents=True)\n",
    "\n",
    "query = \"Breiefly summarize the car allowance policy?\"\n",
    "print(\"Query: \" + query)\n",
    "q_answer = llm_answer(query)\n",
    "print(f\"ANSWER: \"+str(q_answer[\"answer\"]))\n",
    "print(q_answer['source_documents'][0].metadata[\"source\"].replace(\"docs\\\\\",\"\")+\" - Page: \"+str(q_answer['source_documents'][0].metadata[\"page\"]))\n",
    "\n",
    "print(\"================================================================================================================================\")\n",
    "\n",
    "\n",
    "query = \"What are offences that are not covered in it and employees are responsible for those offences?\"\n",
    "print(\"Query: \" + query)\n",
    "q_answer = llm_answer(query)\n",
    "print(f\"ANSWER: \"+str(q_answer[\"answer\"]))\n",
    "print(q_answer['source_documents'][0].metadata[\"source\"].replace(\"docs\\\\\",\"\")+\" - Page: \"+str(q_answer['source_documents'][0].metadata[\"page\"]))\n",
    "\n",
    "print(\"================================================================================================================================\")\n",
    "\n",
    "query = \"What is the policy of employee who is absent from work?\"\n",
    "q_answer = llm_answer(query)\n",
    "print(\"Query: \" + query)\n",
    "print(f\"ANSWER: \"+str(q_answer[\"answer\"]))\n",
    "print(q_answer['source_documents'][0].metadata[\"source\"].replace(\"docs\\\\\",\"\")+\" - Page: \"+str(q_answer['source_documents'][0].metadata[\"page\"]))\n",
    "\n",
    "\n"
   ]
  }
 ],
 "metadata": {
  "kernelspec": {
   "display_name": "Python 3",
   "language": "python",
   "name": "python3"
  },
  "language_info": {
   "codemirror_mode": {
    "name": "ipython",
    "version": 3
   },
   "file_extension": ".py",
   "mimetype": "text/x-python",
   "name": "python",
   "nbconvert_exporter": "python",
   "pygments_lexer": "ipython3",
   "version": "3.10.9"
  },
  "orig_nbformat": 4
 },
 "nbformat": 4,
 "nbformat_minor": 2
}
